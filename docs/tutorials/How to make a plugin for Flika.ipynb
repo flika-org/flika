{
 "cells": [
  {
   "cell_type": "markdown",
   "metadata": {},
   "source": [
    "Plugins are software that extend Flika's functionality.  In this tutorial, we will describe how to create your own plugin to add to Flika."
   ]
  },
  {
   "cell_type": "markdown",
   "metadata": {},
   "source": [
    "In your plugin, if you'd like to import software from another Flika plugin, you can import by referencing the plugin directory.  For example, if the plugin is called 'puffs', the file containing the desired function is called 'threshold_cluster', and the function in that plugin is 'threshold_cluster', use the following syntax:"
   ]
  },
  {
   "cell_type": "code",
   "execution_count": null,
   "metadata": {
    "collapsed": true
   },
   "outputs": [],
   "source": [
    "from plugins.puffs.threshold_cluster import threshold_cluster"
   ]
  },
  {
   "cell_type": "markdown",
   "metadata": {},
   "source": [
    "To add the plugin to the FLIKA database, it must be organized in a way that FLIKA can read."
   ]
  },
  {
   "cell_type": "code",
   "execution_count": null,
   "metadata": {
    "collapsed": true
   },
   "outputs": [],
   "source": [
    "-PluginFolder\n",
    "    -__init__.py\n",
    "    -my_code.py\n",
    "    -more_code.py\n",
    "    -optional_docs\n",
    "        -docs_files..."
   ]
  },
  {
   "cell_type": "markdown",
   "metadata": {},
   "source": [
    "Where the \\_\\_init\\_\\_.py file must contain:"
   ]
  },
  {
   "cell_type": "code",
   "execution_count": null,
   "metadata": {
    "collapsed": true
   },
   "outputs": [],
   "source": [
    "dependencies = ['list', 'of', 'dependencies'] #installed from pypi and Gohkle's wheel library\n",
    "name = 'Plugin Name'\n",
    "date = 'MM/DD/YYYY' #date must be in this format to manage updates\n",
    "base_dir = 'PluginFolderName' #module name used in plugin (eg. from PluginFolderName import submodule)\n",
    "menu_layout = {'Menu Name': {'SubAction': ['path_to', 'function']}}"
   ]
  },
  {
   "cell_type": "markdown",
   "metadata": {},
   "source": [
    "It should be noted that the above \\_\\_init\\_\\_.py file will add a submenu 'Menu Name' to the Plugins Menu, which has a subaction 'SubAction' that will import 'path_to' and run the 'function' attribute of the resulting import.  For instance if you have a window object in a plugin module, adding the window.show() function to the menu would look like:"
   ]
  },
  {
   "cell_type": "code",
   "execution_count": null,
   "metadata": {
    "collapsed": true
   },
   "outputs": [],
   "source": [
    "{'Menu Name': {'SubAction': ['path_to', 'function'], 'Show Window': ['PluginFolderName.module', 'window.show']}}"
   ]
  },
  {
   "cell_type": "markdown",
   "metadata": {},
   "source": [
    "NOTE: Because this is a .py file, it may be helpful to include 'from collections import OrderedDict' in your \\_\\_init\\_\\_.py and create your menu_layout as an OrderedDict to maintain ordering. Above Example:"
   ]
  },
  {
   "cell_type": "code",
   "execution_count": null,
   "metadata": {
    "collapsed": true
   },
   "outputs": [],
   "source": [
    "    menu_layout = {'Menu Name': OrderedDict([('SubAction', ['path_to', 'function']), \\\n",
    "                                             ('Show Window', ['module', 'instance.show'])])}"
   ]
  },
  {
   "cell_type": "markdown",
   "metadata": {},
   "source": [
    "When the author makes an update to a Plugin, he/she should set the date attribute to its new value, and alert authors of FLIKA.  Once the database has been updated as well, FLIKA users will be able to see and install the update."
   ]
  }
 ],
 "metadata": {
  "kernelspec": {
   "display_name": "Python 3",
   "language": "python",
   "name": "python3"
  },
  "language_info": {
   "codemirror_mode": {
    "name": "ipython",
    "version": 3
   },
   "file_extension": ".py",
   "mimetype": "text/x-python",
   "name": "python",
   "nbconvert_exporter": "python",
   "pygments_lexer": "ipython3",
   "version": "3.4.3"
  }
 },
 "nbformat": 4,
 "nbformat_minor": 0
}
