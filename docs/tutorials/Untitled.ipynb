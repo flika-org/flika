{
 "cells": [
  {
   "cell_type": "markdown",
   "metadata": {},
   "source": [
    "# How FLIKA reads plugins\n",
    "Plugins are handled in FLIKA with the plugins.txt file in the FLIKA_plugins repository. This text file is outlined like a python dictionary, where each key-value pair is a plugin name and another dictionary of information about that plugin.  An example plugins.text file would look like:"
   ]
  },
  {
   "cell_type": "code",
   "execution_count": null,
   "metadata": {
    "collapsed": true
   },
   "outputs": [],
   "source": [
    "{\n",
    "'Plugin1 Name' : {\n",
    "    'description': 'Short paragraph(s) about the plugin, written by the plugin author to show in the plugin manager dialog',\n",
    "    'url': 'www.url_download.com/path/to/zip_file.zip', # Github encouraged\n",
    "    'docs': 'www.url_docs.com/docs',\n",
    "    'author': 'Author Name',\n",
    "    'date': 'MM/DD/YY',\n",
    "    },\n",
    "'Plugin2 Name': {\n",
    "    'description': 'etc.. etc..',\n",
    "    'url': 'www.url_download.com/path/to/zip_file.zip',\n",
    "    'docs': 'www.url_docs.com/docs',\n",
    "    'author': 'Author Name',\n",
    "    'date': 'MM/DD/YY',\n",
    "    }\n",
    "}"
   ]
  },
  {
   "cell_type": "markdown",
   "metadata": {},
   "source": [
    "IMPORTANT: \n",
    "    url zip files must have a single folder containing the plugin code, as well as an \\_\\_init\\_\\_.py file. To see the outline of an init file check 'How to write plugins for FLIKA'\n",
    "    The names listed must match EXACTLY to the names listed in the \\_\\_init\\_\\_.py files of FLIKA plugins.\n",
    "    Update Availability relies on dates listed in plugins.txt and \\_\\_init\\_\\_.py files of FLIKA plugins."
   ]
  },
  {
   "cell_type": "markdown",
   "metadata": {},
   "source": [
    "The names listed must match EXACTLY to the names listed in the __init__.py files of FLIKA plugins.\n",
    "    Update Availability relies on dates listed in plugins.txt and __init__.py files of FLIKA plugins."
   ]
  },
  {
   "cell_type": "code",
   "execution_count": null,
   "metadata": {
    "collapsed": true
   },
   "outputs": [],
   "source": []
  },
  {
   "cell_type": "code",
   "execution_count": null,
   "metadata": {
    "collapsed": true
   },
   "outputs": [],
   "source": []
  }
 ],
 "metadata": {
  "kernelspec": {
   "display_name": "Python 3",
   "language": "python",
   "name": "python3"
  },
  "language_info": {
   "codemirror_mode": {
    "name": "ipython",
    "version": 3
   },
   "file_extension": ".py",
   "mimetype": "text/x-python",
   "name": "python",
   "nbconvert_exporter": "python",
   "pygments_lexer": "ipython3",
   "version": "3.4.3"
  }
 },
 "nbformat": 4,
 "nbformat_minor": 0
}
