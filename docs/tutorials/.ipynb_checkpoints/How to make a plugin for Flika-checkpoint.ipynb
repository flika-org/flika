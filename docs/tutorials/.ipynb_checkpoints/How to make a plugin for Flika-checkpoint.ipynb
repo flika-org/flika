{
 "cells": [
  {
   "cell_type": "markdown",
   "metadata": {},
   "source": [
    "Plugins are software that extend Flika's functionality.  In this tutorial, we will describe how to create your own plugin to add to Flika.\n"
   ]
  },
  {
   "cell_type": "code",
   "execution_count": null,
   "metadata": {
    "collapsed": true
   },
   "outputs": [],
   "source": [
    "__init__.py that contains rules "
   ]
  },
  {
   "cell_type": "markdown",
   "metadata": {},
   "source": [
    "In your plugin, if you'd like to import software from another Flika plugin, you can import by referencing the plugin directory.  For example, if the plugin is called 'puffs', the file containing the desired function is called 'threshold_cluster', and the function in that plugin is 'threshold_cluster', use the following syntax:"
   ]
  },
  {
   "cell_type": "code",
   "execution_count": null,
   "metadata": {
    "collapsed": true
   },
   "outputs": [],
   "source": [
    "from plugins.puffs.threshold_cluster import threshold_cluster"
   ]
  }
 ],
 "metadata": {
  "kernelspec": {
   "display_name": "Python 2",
   "language": "python",
   "name": "python2"
  },
  "language_info": {
   "codemirror_mode": {
    "name": "ipython",
    "version": 2
   },
   "file_extension": ".py",
   "mimetype": "text/x-python",
   "name": "python",
   "nbconvert_exporter": "python",
   "pygments_lexer": "ipython2",
   "version": "2.7.10"
  }
 },
 "nbformat": 4,
 "nbformat_minor": 0
}
